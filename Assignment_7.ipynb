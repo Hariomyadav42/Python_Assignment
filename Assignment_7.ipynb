{
 "cells": [
  {
   "cell_type": "markdown",
   "id": "8ef2f883",
   "metadata": {},
   "source": [
    "# iNeuron\n",
    "## Assignment_7"
   ]
  },
  {
   "cell_type": "markdown",
   "id": "bf771225",
   "metadata": {},
   "source": [
    "### Question 1\n",
    "#### Create two int type variables, apply addition, subtraction, division and multiplications\n",
    "#### and store the results in variables. Then print the data in the following format by calling the\n",
    "#### variables:\n",
    "\n",
    "\n",
    "#### First variable is __ & second variable is __.\n",
    "#### Addition: __ + __ = __\n",
    "#### Subtraction: __ - __ = __\n",
    "#### Multiplication: __ * __ = __\n",
    "#### Division: __ / __ = __"
   ]
  },
  {
   "cell_type": "markdown",
   "id": "f7b930e9",
   "metadata": {},
   "source": [
    "### Answer 1\n",
    "First variable is 5 & second variable is 3\n",
    "\n",
    "\n",
    "Addition: 5 + 3 = 8\n",
    "\n",
    "\n",
    "Subtraction: 5 - 3 = 2\n",
    "\n",
    "\n",
    "Multiplication: 5 * 3 = 15\n",
    "\n",
    "\n",
    "Division: 5 / 3 = 1.6666666666666667\n"
   ]
  },
  {
   "cell_type": "code",
   "execution_count": 1,
   "id": "2e2d610c",
   "metadata": {},
   "outputs": [
    {
     "name": "stdout",
     "output_type": "stream",
     "text": [
      "8\n",
      "2\n",
      "15\n",
      "1.6666666666666667\n"
     ]
    }
   ],
   "source": [
    "a = 5\n",
    "b = 3\n",
    "print(a+b)\n",
    "print(5-3)\n",
    "print(5*3)\n",
    "print(5/3)"
   ]
  },
  {
   "cell_type": "markdown",
   "id": "a29f5fae",
   "metadata": {},
   "source": [
    "### Question 2\n",
    "#### What is the difference between the following operators:\n",
    "#### (i) ‘/’ & ‘//’\n",
    "#### (ii) ‘**’ & ‘^’"
   ]
  },
  {
   "cell_type": "markdown",
   "id": "a50787b2",
   "metadata": {},
   "source": [
    "### Answer 2\n",
    "'(i)   (\"/\") is normal division and (\"//\") is floor division operator. Normal division gives the exact result value and floor division gives the floor value of exact result"
   ]
  },
  {
   "cell_type": "code",
   "execution_count": 2,
   "id": "6c35205a",
   "metadata": {},
   "outputs": [
    {
     "name": "stdout",
     "output_type": "stream",
     "text": [
      "1.6666666666666667\n",
      "1\n"
     ]
    }
   ],
   "source": [
    "a = 5\n",
    "b = 3\n",
    "print(a/b)\n",
    "print(a//b)"
   ]
  },
  {
   "cell_type": "markdown",
   "id": "96316e11",
   "metadata": {},
   "source": [
    "(ii)\n",
    "\n",
    "\n",
    "'** is the exponentiation operator, used for raising a number to a power and\n",
    "'^' is the bitwise XOR operator, used for performing XOR operation on the binary representations of numbers."
   ]
  },
  {
   "cell_type": "code",
   "execution_count": 3,
   "id": "19c086af",
   "metadata": {},
   "outputs": [
    {
     "name": "stdout",
     "output_type": "stream",
     "text": [
      "6\n",
      "125\n"
     ]
    }
   ],
   "source": [
    "a = 5   # Binary representation: 0101\n",
    "b = 3   # Binary representation: 0011\n",
    "\n",
    "result = a ^ b\n",
    "\n",
    "print(result)  # Output: 6\n",
    "print(a**b)"
   ]
  },
  {
   "cell_type": "markdown",
   "id": "4760528b",
   "metadata": {},
   "source": [
    "### Question 3\n",
    "#### List the logical operators."
   ]
  },
  {
   "cell_type": "markdown",
   "id": "de7481bb",
   "metadata": {},
   "source": [
    "### Answer 3\n",
    "Logical operators in python-\n",
    "\n",
    "(i) Logical AND operator\n",
    "\n",
    "\n",
    "(ii) Logical OR operator\n",
    "\n",
    "\n",
    "(iii)Logical NOT operator"
   ]
  },
  {
   "cell_type": "markdown",
   "id": "64964d3b",
   "metadata": {},
   "source": [
    "### Question 4\n",
    "#### Explain right shift operator and left shift operator with examples."
   ]
  },
  {
   "cell_type": "markdown",
   "id": "abe9aa80",
   "metadata": {},
   "source": [
    "### Answer 4\n",
    "\n",
    "Right shift operator - \n",
    "Shifts the bits of the number to the right and fills 0 on voids left as result."
   ]
  },
  {
   "cell_type": "code",
   "execution_count": 4,
   "id": "b30ad382",
   "metadata": {},
   "outputs": [
    {
     "name": "stdout",
     "output_type": "stream",
     "text": [
      "2\n"
     ]
    }
   ],
   "source": [
    "num = 10  # Binary of 10 = 1010\n",
    "\n",
    "result = num >> 2\n",
    "\n",
    "print(result)  # Output: 2 =0010\n"
   ]
  },
  {
   "cell_type": "markdown",
   "id": "4670bfd6",
   "metadata": {},
   "source": [
    "Left shift operator - Shifts the bits of the number to the left and fills 0 on voids right as a result."
   ]
  },
  {
   "cell_type": "code",
   "execution_count": 5,
   "id": "833be568",
   "metadata": {},
   "outputs": [
    {
     "name": "stdout",
     "output_type": "stream",
     "text": [
      "40\n"
     ]
    }
   ],
   "source": [
    "num = 10  # Binary of 10 = 1010\n",
    "\n",
    "result = num << 2\n",
    "\n",
    "print(result)  # Output: 40 =101000"
   ]
  },
  {
   "cell_type": "markdown",
   "id": "4dd18089",
   "metadata": {},
   "source": [
    "### Question 5\n",
    "#### Create a list containing int type data of length 15. Then write a code to check if 10 is\n",
    "#### present in the list or not."
   ]
  },
  {
   "cell_type": "markdown",
   "id": "48ad9184",
   "metadata": {},
   "source": [
    "### Answer 5"
   ]
  },
  {
   "cell_type": "code",
   "execution_count": 6,
   "id": "9cec07a8",
   "metadata": {},
   "outputs": [
    {
     "name": "stdout",
     "output_type": "stream",
     "text": [
      "10 is present in the list.\n"
     ]
    }
   ],
   "source": [
    "my_list = [5, 8, 2, 10, 15, 20, 17, 3, 12, 6, 9, 4, 1, 7, 13]\n",
    "\n",
    "# Check if 10 is present in the list\n",
    "if 10 in my_list:\n",
    "    print(\"10 is present in the list.\")\n",
    "else:\n",
    "    print(\"10 is not present in the list.\")\n"
   ]
  },
  {
   "cell_type": "code",
   "execution_count": null,
   "id": "1c226b7b",
   "metadata": {},
   "outputs": [],
   "source": []
  }
 ],
 "metadata": {
  "kernelspec": {
   "display_name": "Python 3 (ipykernel)",
   "language": "python",
   "name": "python3"
  },
  "language_info": {
   "codemirror_mode": {
    "name": "ipython",
    "version": 3
   },
   "file_extension": ".py",
   "mimetype": "text/x-python",
   "name": "python",
   "nbconvert_exporter": "python",
   "pygments_lexer": "ipython3",
   "version": "3.10.9"
  }
 },
 "nbformat": 4,
 "nbformat_minor": 5
}
