{
 "cells": [
  {
   "cell_type": "markdown",
   "id": "fd2d1419",
   "metadata": {},
   "source": [
    "# iNeuron Python Assignment"
   ]
  },
  {
   "cell_type": "markdown",
   "id": "1ddefa48",
   "metadata": {},
   "source": [
    "## Assignment"
   ]
  },
  {
   "cell_type": "markdown",
   "id": "5d0dbfec",
   "metadata": {},
   "source": [
    "### Question 1\n",
    "\n",
    "#### 1. In the below elements which of them are values or an expression? eg: value can be integer or string and expression will be mathematical operators.\n",
    "\n",
    "#### ( * , \"hello\" , -87.8, - , / , + , 6)"
   ]
  },
  {
   "cell_type": "markdown",
   "id": "0d01c217",
   "metadata": {},
   "source": [
    "### Ans. No. 1 - \n",
    "In the above question\n",
    "\n",
    "values - ( -87.8 , \"hello\" , 6)\n",
    "\n",
    " operators - ( * , - , / , +) "
   ]
  },
  {
   "cell_type": "markdown",
   "id": "619c79a3",
   "metadata": {},
   "source": [
    "### Question 2"
   ]
  },
  {
   "cell_type": "markdown",
   "id": "ad5d0a57",
   "metadata": {},
   "source": [
    "#### What is the difference between string and variable ? \n"
   ]
  },
  {
   "cell_type": "markdown",
   "id": "c740f3e5",
   "metadata": {},
   "source": [
    "### Ans. No. 2 - "
   ]
  },
  {
   "cell_type": "markdown",
   "id": "2ddcff4b",
   "metadata": {},
   "source": [
    "#### String -\n",
    "            A String is a sequence of characters . It's an immutable data type, Meaning that you have created a string you can not change it. "
   ]
  },
  {
   "cell_type": "code",
   "execution_count": 5,
   "id": "702f414f",
   "metadata": {},
   "outputs": [
    {
     "name": "stdout",
     "output_type": "stream",
     "text": [
      "('Apple', 'Mango')\n"
     ]
    }
   ],
   "source": [
    "# String in python\n",
    "fruits = \"Apple\" , \"Mango\"\n",
    "print(fruits)"
   ]
  },
  {
   "cell_type": "markdown",
   "id": "f985f51e",
   "metadata": {},
   "source": [
    "#### Variable -\n",
    "               A Variable is a named location used used to store data in memory. A python variable name can only contain alpha-numeric characters and underscores( A-z and _ ).                             "
   ]
  },
  {
   "cell_type": "code",
   "execution_count": 6,
   "id": "ac6cd083",
   "metadata": {},
   "outputs": [
    {
     "name": "stdout",
     "output_type": "stream",
     "text": [
      "5\n",
      "6\n",
      "7\n",
      "8\n"
     ]
    }
   ],
   "source": [
    "# Valid variable names \n",
    "Hari = 5 \n",
    "_Hari = 6\n",
    "_hari_ = 7\n",
    "hari_1 = 8\n",
    "print(Hari)\n",
    "print(_Hari)\n",
    "print(_hari_)\n",
    "print(hari_1)"
   ]
  },
  {
   "cell_type": "markdown",
   "id": "8a5bce28",
   "metadata": {},
   "source": [
    "### Question 3 "
   ]
  },
  {
   "cell_type": "markdown",
   "id": "08cbbb81",
   "metadata": {},
   "source": [
    "#### Describe three different data types.  "
   ]
  },
  {
   "cell_type": "markdown",
   "id": "4505bc73",
   "metadata": {},
   "source": [
    "### Ans. No. 3 \n",
    " A Data Type describes the characteristic of a variable. \n",
    " Ex- Number, String , List, Touple , Set, Dictionary"
   ]
  },
  {
   "cell_type": "markdown",
   "id": "5ce1257c",
   "metadata": {},
   "source": [
    "##### List - \n",
    "           A List is a ordered collection of items. It's creating by placing items inside squre [] brakets, separated by commas.its mutable thats meaning we can change it or add somthing."
   ]
  },
  {
   "cell_type": "code",
   "execution_count": 8,
   "id": "efda186d",
   "metadata": {},
   "outputs": [
    {
     "name": "stdout",
     "output_type": "stream",
     "text": [
      "[2, 4, 4.5, 'hello']\n"
     ]
    }
   ],
   "source": [
    "# Example of list\n",
    "List = [2, 4 , 4.5 , \"hello\" ]\n",
    "print(List)"
   ]
  },
  {
   "cell_type": "markdown",
   "id": "510e0339",
   "metadata": {},
   "source": [
    "#### String -\n",
    "        A String is a sequence of characters . It's an immutable data type, Meaning that you have created a string you can not change it. "
   ]
  },
  {
   "cell_type": "code",
   "execution_count": 10,
   "id": "b46077a4",
   "metadata": {},
   "outputs": [
    {
     "name": "stdout",
     "output_type": "stream",
     "text": [
      "Welcome\n"
     ]
    }
   ],
   "source": [
    " Ram = \"Welcome\"\n",
    "print(Ram)"
   ]
  },
  {
   "cell_type": "markdown",
   "id": "e7f24000",
   "metadata": {},
   "source": [
    "#### Touple -\n",
    "             A Touple is sequence of python objects separated by commas. Touples are immutable in python."
   ]
  },
  {
   "cell_type": "code",
   "execution_count": 11,
   "id": "f2a008ef",
   "metadata": {},
   "outputs": [
    {
     "name": "stdout",
     "output_type": "stream",
     "text": [
      "[50, 15, 34.8, -76, 'ram']\n"
     ]
    }
   ],
   "source": [
    "# Touple example\n",
    "Touple = [ 50 , 15 , 34.8 , -76 , \"ram\"]\n",
    "print(Touple)"
   ]
  },
  {
   "cell_type": "markdown",
   "id": "197755b6",
   "metadata": {},
   "source": [
    "###  Question 4 "
   ]
  },
  {
   "cell_type": "markdown",
   "id": "ac130dab",
   "metadata": {},
   "source": [
    "#### What is an expression made up of ? What do all  expressions do ? "
   ]
  },
  {
   "cell_type": "markdown",
   "id": "7fb1a7d9",
   "metadata": {},
   "source": [
    "### Ans 4 "
   ]
  },
  {
   "cell_type": "markdown",
   "id": "a6f7a548",
   "metadata": {},
   "source": [
    "An Expression is a combination of operators and operands that is interpreted to produce some other value. The Expression in python produce some value or result after being interpreted by python interpreter.  "
   ]
  },
  {
   "cell_type": "markdown",
   "id": "60f63131",
   "metadata": {},
   "source": [
    "### Question 5"
   ]
  },
  {
   "cell_type": "markdown",
   "id": "e22a5050",
   "metadata": {},
   "source": [
    "#### This assignment statement , like spam = 10 . What is the difference between an expressions and statement ? "
   ]
  },
  {
   "cell_type": "markdown",
   "id": "0ff1e3ad",
   "metadata": {},
   "source": [
    "### Ans 5\n",
    "##### assignment statement-\n",
    "We use assignment statement to assign objects to names. The target of an assignment statement is written on the left side of the equal sign (=), and the object on the right can be arbitrary expression that computes an object.\n",
    " Example - spam = 10\n",
    "in this spam is assignment statement.\n",
    "##### difference b\\w Expressions and Statement\n",
    "A statement in python is not evaluated for some results and an expression in python is evaluated for some result.       "
   ]
  },
  {
   "cell_type": "markdown",
   "id": "e1c94f4b",
   "metadata": {},
   "source": [
    "### Question 6 "
   ]
  },
  {
   "cell_type": "markdown",
   "id": "1715ec1f",
   "metadata": {},
   "source": [
    "#### After running the following code, what does the variable bacon contain ? \n",
    "#### bacon = 22 \n",
    "#### bacon+1"
   ]
  },
  {
   "cell_type": "markdown",
   "id": "e972cb68",
   "metadata": {},
   "source": [
    "### Ans 6 \n",
    "bacon variable is set to 22. The bacon+1 expression does not reassign the value in bacon (that would need an assignment statement: bacon = bacon+1)."
   ]
  },
  {
   "cell_type": "markdown",
   "id": "30e95d7a",
   "metadata": {},
   "source": [
    "### Question 7 "
   ]
  },
  {
   "cell_type": "markdown",
   "id": "993f63aa",
   "metadata": {},
   "source": [
    "#### What should the value of following two terms be ? \n",
    "#### ' spam' + 'spamspam'\n",
    "#### 'spam' * 3"
   ]
  },
  {
   "cell_type": "markdown",
   "id": "7f7b406f",
   "metadata": {},
   "source": [
    "### Ans 7"
   ]
  },
  {
   "cell_type": "markdown",
   "id": "2d128ce7",
   "metadata": {},
   "source": [
    "Both terms evaluate to the string \n",
    "'spamspamspam'"
   ]
  },
  {
   "cell_type": "markdown",
   "id": "a248c87f",
   "metadata": {},
   "source": [
    "### Question 8"
   ]
  },
  {
   "cell_type": "markdown",
   "id": "0c272100",
   "metadata": {},
   "source": [
    "#### Why is eggs a valid variable name while 100 is invalid ? "
   ]
  },
  {
   "cell_type": "markdown",
   "id": "a3770dda",
   "metadata": {},
   "source": [
    "### Ans 8 \n",
    "Variable name can't begin with a number. "
   ]
  },
  {
   "cell_type": "code",
   "execution_count": null,
   "id": "ee0e4aac",
   "metadata": {},
   "outputs": [],
   "source": []
  }
 ],
 "metadata": {
  "kernelspec": {
   "display_name": "Python 3 (ipykernel)",
   "language": "python",
   "name": "python3"
  },
  "language_info": {
   "codemirror_mode": {
    "name": "ipython",
    "version": 3
   },
   "file_extension": ".py",
   "mimetype": "text/x-python",
   "name": "python",
   "nbconvert_exporter": "python",
   "pygments_lexer": "ipython3",
   "version": "3.10.9"
  }
 },
 "nbformat": 4,
 "nbformat_minor": 5
}
