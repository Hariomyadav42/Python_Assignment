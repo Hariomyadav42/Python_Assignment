{
 "cells": [
  {
   "cell_type": "markdown",
   "id": "78dfb8c9",
   "metadata": {},
   "source": [
    "# iNeuron\n",
    "## Assignment- 3"
   ]
  },
  {
   "cell_type": "markdown",
   "id": "9b1c8fee",
   "metadata": {},
   "source": [
    "### Question 1\n",
    "#### Why are functions advantageous to have in your programs?"
   ]
  },
  {
   "cell_type": "markdown",
   "id": "75306a0a",
   "metadata": {},
   "source": [
    "### Answer 1\n",
    "Functions are more advantageous because it makes a program more readable and breaking the code down into smaller functions keeps the program structured, understandable, and reusable. "
   ]
  },
  {
   "cell_type": "markdown",
   "id": "a3bf990e",
   "metadata": {},
   "source": [
    "### Question 2\n",
    "#### When does the code in a function run: when it is specified or when it is called?"
   ]
  },
  {
   "cell_type": "markdown",
   "id": "0ded99e9",
   "metadata": {},
   "source": [
    "### Answer 2\n",
    "The code in a function run when the function is called . We cannot execute the code when it's defined."
   ]
  },
  {
   "cell_type": "markdown",
   "id": "371305c9",
   "metadata": {},
   "source": [
    "### Question 3\n",
    "#### What statement creates a function?"
   ]
  },
  {
   "cell_type": "markdown",
   "id": "e37262e5",
   "metadata": {},
   "source": [
    "### Answer 3\n",
    "In Python we define a function with the def keyword, then write the function identifier (name) followed by parentheses and a colon.\n",
    "\n",
    "example:\n",
    "\n",
    "             def myfunction():\n",
    "                 print(\"Hello World\")"
   ]
  },
  {
   "cell_type": "markdown",
   "id": "22979190",
   "metadata": {},
   "source": [
    "### Question 4\n",
    "#### What is the difference between a function and a function call?"
   ]
  },
  {
   "cell_type": "markdown",
   "id": "05ba500e",
   "metadata": {},
   "source": [
    "### Answer 4\n",
    "A function consists of the def statement and the code in its def clause and A function call means invoking or calling that function. Unless a function is called there is no use of that function."
   ]
  },
  {
   "cell_type": "markdown",
   "id": "934dee15",
   "metadata": {},
   "source": [
    "### Question 5\n",
    "#### How many global scopes are there in a Python program? How many local scopes?"
   ]
  },
  {
   "cell_type": "markdown",
   "id": "f6a87302",
   "metadata": {},
   "source": [
    "### Answer 5\n",
    "There are only one global Python scope per program execution and a local scope is created whenever a function is called. "
   ]
  },
  {
   "cell_type": "markdown",
   "id": "5c406af7",
   "metadata": {},
   "source": [
    "### Question 6\n",
    "#### What happens to variables in a local scope when the function call returns?"
   ]
  },
  {
   "cell_type": "markdown",
   "id": "336f1dc7",
   "metadata": {},
   "source": [
    "### Answer 6\n",
    "When the function call returns, the local scope are destroyed."
   ]
  },
  {
   "cell_type": "markdown",
   "id": "e4038209",
   "metadata": {},
   "source": [
    "### Question 7\n",
    "#### What is the concept of a return value? Is it possible to have a return value in an expression?"
   ]
  },
  {
   "cell_type": "markdown",
   "id": "3a5fdcb8",
   "metadata": {},
   "source": [
    "### Answer 7\n",
    "A return is a value that a function returns to the calling function when it completes its task and return value can be used as part of an expression."
   ]
  },
  {
   "cell_type": "markdown",
   "id": "9ff4d4ff",
   "metadata": {},
   "source": [
    "### Question 8\n",
    "#### If a function does not have a return statement, what is the return value of a call to that function?"
   ]
  },
  {
   "cell_type": "markdown",
   "id": "11e34f40",
   "metadata": {},
   "source": [
    "### Answer 8\n",
    "If the function doesn't have any return statement, then it returns None because every function in Python returns something. "
   ]
  },
  {
   "cell_type": "markdown",
   "id": "f1859bf8",
   "metadata": {},
   "source": [
    "### Question 9\n",
    "#### How do you make a function variable refer to the global variable?"
   ]
  },
  {
   "cell_type": "markdown",
   "id": "c0171ce8",
   "metadata": {},
   "source": [
    "### Answer 9\n",
    "We can use the global keyword to make a function variable to global variable."
   ]
  },
  {
   "cell_type": "markdown",
   "id": "fb7db252",
   "metadata": {},
   "source": [
    "### Question 10\n",
    "#### What is the data type of None?"
   ]
  },
  {
   "cell_type": "markdown",
   "id": "25dd3df2",
   "metadata": {},
   "source": [
    "### Answer 10\n",
    " None is a data type of its own (NoneType). "
   ]
  },
  {
   "cell_type": "markdown",
   "id": "84e77a26",
   "metadata": {},
   "source": [
    "### Question 11\n",
    "#### What does the sentence import areallyourpetsnamederic do?"
   ]
  },
  {
   "cell_type": "markdown",
   "id": "be664c18",
   "metadata": {},
   "source": [
    "### Answer 11\n",
    "That import statement imports a module named areallyourpetsnamederic."
   ]
  },
  {
   "cell_type": "markdown",
   "id": "b99ad218",
   "metadata": {},
   "source": [
    "### Question 12\n",
    "#### If you had a bacon() feature in a spam module, what would you call it after importing spam?"
   ]
  },
  {
   "cell_type": "markdown",
   "id": "41a2a346",
   "metadata": {},
   "source": [
    "### Answer 12\n",
    "This function can be called with spam.bacon()."
   ]
  },
  {
   "cell_type": "markdown",
   "id": "57080143",
   "metadata": {},
   "source": [
    "### Question 13\n",
    "#### What can you do to save a programme from crashing if it encounters an error?"
   ]
  },
  {
   "cell_type": "markdown",
   "id": "1144690e",
   "metadata": {},
   "source": [
    "### Answer 13\n",
    "Gracefully exit the process that caused the error."
   ]
  },
  {
   "cell_type": "markdown",
   "id": "60fc8169",
   "metadata": {},
   "source": [
    "### Question 14\n",
    "#### What is the purpose of the try clause? What is the purpose of the except clause?"
   ]
  },
  {
   "cell_type": "markdown",
   "id": "2c78b8fa",
   "metadata": {},
   "source": [
    "### Answer 14\n",
    "The try clause is used to check some code for errors and the code inside the except clause will execute whenever the program encounters some error in the preceding try clause."
   ]
  },
  {
   "cell_type": "code",
   "execution_count": null,
   "id": "986b83f2",
   "metadata": {},
   "outputs": [],
   "source": []
  }
 ],
 "metadata": {
  "kernelspec": {
   "display_name": "Python 3 (ipykernel)",
   "language": "python",
   "name": "python3"
  },
  "language_info": {
   "codemirror_mode": {
    "name": "ipython",
    "version": 3
   },
   "file_extension": ".py",
   "mimetype": "text/x-python",
   "name": "python",
   "nbconvert_exporter": "python",
   "pygments_lexer": "ipython3",
   "version": "3.10.9"
  }
 },
 "nbformat": 4,
 "nbformat_minor": 5
}
