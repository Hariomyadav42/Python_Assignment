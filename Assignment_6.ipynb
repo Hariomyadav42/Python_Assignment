{
 "cells": [
  {
   "cell_type": "markdown",
   "id": "dcf9a71a",
   "metadata": {},
   "source": [
    "# iNeuron\n",
    "## Assignment_6"
   ]
  },
  {
   "cell_type": "markdown",
   "id": "b4efe1dd",
   "metadata": {},
   "source": [
    "### Question 1 \n",
    "#### What are keywords in python? Using the keyword library, print all the python keywords."
   ]
  },
  {
   "cell_type": "markdown",
   "id": "6d73069a",
   "metadata": {},
   "source": [
    "### Answer 1\n",
    "Keywords in Python are reserved words that can not be used as a variable name, function name, or any other identifier."
   ]
  },
  {
   "cell_type": "code",
   "execution_count": 6,
   "id": "027b756a",
   "metadata": {},
   "outputs": [
    {
     "name": "stdout",
     "output_type": "stream",
     "text": [
      "['False', 'None', 'True', 'and', 'as', 'assert', 'async', 'await', 'break', 'class', 'continue', 'def', 'del', 'elif', 'else', 'except', 'finally', 'for', 'from', 'global', 'if', 'import', 'in', 'is', 'lambda', 'nonlocal', 'not', 'or', 'pass', 'raise', 'return', 'try', 'while', 'with', 'yield']\n"
     ]
    }
   ],
   "source": [
    "# Printing all the python keyword library by using keyword library\n",
    "print(keyword.kwlist)"
   ]
  },
  {
   "cell_type": "markdown",
   "id": "faad456d",
   "metadata": {},
   "source": [
    "### Question 2\n",
    "#### What are the rules to create variables in python?"
   ]
  },
  {
   "cell_type": "markdown",
   "id": "e0c7974b",
   "metadata": {},
   "source": [
    "### Answer 2\n",
    "There are the rules to create variables in python \n",
    "* A Python variable name must start with a letter or the underscore character.\n",
    "* A Python variable name cannot start with a number.\n",
    "* A Python variable name can only contain alpha-numeric characters and underscores (A-z, 0-9, and _ )."
   ]
  },
  {
   "cell_type": "markdown",
   "id": "291e4167",
   "metadata": {},
   "source": [
    "### Question 3\n",
    "####  What are the standards and conventions followed for the nomenclature of variables in\n",
    "#### python to improve code readability and maintainability?"
   ]
  },
  {
   "cell_type": "markdown",
   "id": "498542fa",
   "metadata": {},
   "source": [
    "### Answer 3\n",
    "We know there are rules around which variable names are legal. But there are still some ‘rules’ around how to choose good variable names. This is called a Naming Convention.\n",
    "* Variables should always start with a lower-case character\n",
    "* Use underscores instead of spaces to separate words\n",
    "* Don’t use upper-case characters\n",
    "* Starting with underscores is ok, but is used for a special purpose"
   ]
  },
  {
   "cell_type": "markdown",
   "id": "b6891c1f",
   "metadata": {},
   "source": [
    "### Question 4\n",
    "#### What will happen if a keyword is used as a variable name?"
   ]
  },
  {
   "cell_type": "markdown",
   "id": "8943cf15",
   "metadata": {},
   "source": [
    "### Answer 4\n",
    "It will give SyntaxError. "
   ]
  },
  {
   "cell_type": "code",
   "execution_count": 1,
   "id": "4706ff41",
   "metadata": {},
   "outputs": [
    {
     "ename": "SyntaxError",
     "evalue": "invalid syntax (659653547.py, line 1)",
     "output_type": "error",
     "traceback": [
      "\u001b[1;36m  Cell \u001b[1;32mIn[1], line 1\u001b[1;36m\u001b[0m\n\u001b[1;33m    import = \"hello\"\u001b[0m\n\u001b[1;37m           ^\u001b[0m\n\u001b[1;31mSyntaxError\u001b[0m\u001b[1;31m:\u001b[0m invalid syntax\n"
     ]
    }
   ],
   "source": [
    "import = \"hello\"\n",
    "print(import)"
   ]
  },
  {
   "cell_type": "markdown",
   "id": "12e60b36",
   "metadata": {},
   "source": [
    "###  Question 5\n",
    "#### For what purpose def keyword is used?"
   ]
  },
  {
   "cell_type": "markdown",
   "id": "fed7fb35",
   "metadata": {},
   "source": [
    "### Answer 5\n",
    "def keyword is used to define a function"
   ]
  },
  {
   "cell_type": "code",
   "execution_count": 2,
   "id": "b1263e93",
   "metadata": {},
   "outputs": [
    {
     "name": "stdout",
     "output_type": "stream",
     "text": [
      "Hello\n"
     ]
    }
   ],
   "source": [
    "def MyFirstFunction():\n",
    "    print(\"Hello\")\n",
    "MyFirstFunction()"
   ]
  },
  {
   "cell_type": "markdown",
   "id": "df876ed0",
   "metadata": {},
   "source": [
    "### Question 6\n",
    "#### What is the operation of this special character ‘\\’?"
   ]
  },
  {
   "cell_type": "markdown",
   "id": "b581757c",
   "metadata": {},
   "source": [
    "### Answer 6\n",
    "Backslash '\\'  used in representing certain whitespace characters: “\\t” is a tab, “\\n” is a new line, and “\\r” is a carriage return."
   ]
  },
  {
   "cell_type": "code",
   "execution_count": 7,
   "id": "886d09a5",
   "metadata": {},
   "outputs": [
    {
     "name": "stdout",
     "output_type": "stream",
     "text": [
      "Hello,\n",
      " World\n"
     ]
    }
   ],
   "source": [
    "print('Hello,\\n World')"
   ]
  },
  {
   "cell_type": "markdown",
   "id": "385c3700",
   "metadata": {},
   "source": [
    "### Question 7 \n",
    "#### Give an example of the following conditions:\n",
    "#### (i) Homogeneous list\n",
    "#### (ii) Heterogeneous set\n",
    "#### (iii) Homogeneous tuple "
   ]
  },
  {
   "cell_type": "markdown",
   "id": "7969ca7a",
   "metadata": {},
   "source": [
    "### Answer 7\n",
    "#### (i) Homogeneous list - \n",
    "                           In this only one type of data can be stored in arrays.\n",
    "                           \n",
    "Example-"
   ]
  },
  {
   "cell_type": "code",
   "execution_count": 10,
   "id": "4c7f2236",
   "metadata": {},
   "outputs": [
    {
     "name": "stdout",
     "output_type": "stream",
     "text": [
      "['Apple', 'Banana', 'Mangoes', 'Cherry']\n"
     ]
    }
   ],
   "source": [
    "Fruits = [ 'Apple', 'Banana', 'Mangoes', 'Cherry']\n",
    "print(Fruits)"
   ]
  },
  {
   "cell_type": "markdown",
   "id": "16b565ca",
   "metadata": {},
   "source": [
    "#### (ii) Hetrogeneous set - \n",
    "Hetrogeneous Set can store a mixture of string, integer, boolean, etc datatypes.\n",
    "\n",
    "Example-"
   ]
  },
  {
   "cell_type": "code",
   "execution_count": 9,
   "id": "e7147330",
   "metadata": {},
   "outputs": [
    {
     "name": "stdout",
     "output_type": "stream",
     "text": [
      "{True, 52.7, 'Geeks', 10, 'for'}\n"
     ]
    }
   ],
   "source": [
    "myset = {\"Geeks\", \"for\", 10, 52.7, True}\n",
    "print(myset)"
   ]
  },
  {
   "cell_type": "markdown",
   "id": "0035a1c2",
   "metadata": {},
   "source": [
    "#### Homogeneous touple - \n",
    "In Homogeneous touple one type data stored.\n",
    "\n",
    "Example-\n"
   ]
  },
  {
   "cell_type": "code",
   "execution_count": 11,
   "id": "fbe1d0e1",
   "metadata": {},
   "outputs": [
    {
     "name": "stdout",
     "output_type": "stream",
     "text": [
      "('Mango', 'Apple', 'Banana')\n"
     ]
    }
   ],
   "source": [
    "my_touple = (\"Mango\", \"Apple\", \"Banana\")\n",
    "print(my_touple)"
   ]
  },
  {
   "cell_type": "markdown",
   "id": "706844b7",
   "metadata": {},
   "source": [
    "### Question 8\n",
    "#### Explain the mutable and immutable data types with proper explanation & examples."
   ]
  },
  {
   "cell_type": "markdown",
   "id": "fc464053",
   "metadata": {},
   "source": [
    "### Answer 8\n",
    "#### Mutable data types - \n",
    "\n",
    "In python mutable data types allows us to change its value once it is created. We can add or delete value in mutable data types. it can be list , dict or set.\n",
    "\n",
    "Example - There are the example of mutable list. "
   ]
  },
  {
   "cell_type": "code",
   "execution_count": 12,
   "id": "2bae8cfa",
   "metadata": {},
   "outputs": [
    {
     "name": "stdout",
     "output_type": "stream",
     "text": [
      "['red', 'blue', 'green']\n",
      "['pink', 'blue', 'orange']\n"
     ]
    }
   ],
   "source": [
    "# lists are mutable\n",
    "color = [\"red\", \"blue\", \"green\"]\n",
    "print(color)\n",
    " \n",
    "color[0] = \"pink\"\n",
    "color[-1] = \"orange\"\n",
    "print(color)"
   ]
  },
  {
   "cell_type": "markdown",
   "id": "2b8b70f7",
   "metadata": {},
   "source": [
    "#### Immutable data types -\n",
    "In python immutable data types do not allows us to change its value once it is created. We can not add or delete value in mutable data types. Immutable datatypes like int, float, bool, string, Unicode, and tuple.\n",
    "\n",
    "Example - There are the example of immutable touple"
   ]
  },
  {
   "cell_type": "code",
   "execution_count": 14,
   "id": "d7c465b0",
   "metadata": {},
   "outputs": [
    {
     "ename": "TypeError",
     "evalue": "'tuple' object does not support item assignment",
     "output_type": "error",
     "traceback": [
      "\u001b[1;31m---------------------------------------------------------------------------\u001b[0m",
      "\u001b[1;31mTypeError\u001b[0m                                 Traceback (most recent call last)",
      "Cell \u001b[1;32mIn[14], line 3\u001b[0m\n\u001b[0;32m      1\u001b[0m \u001b[38;5;66;03m# tuples are immutable\u001b[39;00m\n\u001b[0;32m      2\u001b[0m tuple1 \u001b[38;5;241m=\u001b[39m (\u001b[38;5;241m0\u001b[39m, \u001b[38;5;241m1\u001b[39m, \u001b[38;5;241m2\u001b[39m, \u001b[38;5;241m3\u001b[39m)\n\u001b[1;32m----> 3\u001b[0m tuple1[\u001b[38;5;241m0\u001b[39m] \u001b[38;5;241m=\u001b[39m \u001b[38;5;241m4\u001b[39m\n\u001b[0;32m      4\u001b[0m \u001b[38;5;28mprint\u001b[39m(tuple1)\n",
      "\u001b[1;31mTypeError\u001b[0m: 'tuple' object does not support item assignment"
     ]
    }
   ],
   "source": [
    "# tuples are immutable\n",
    "tuple1 = (0, 1, 2, 3)\n",
    "tuple1[0] = 4\n",
    "print(tuple1)"
   ]
  },
  {
   "cell_type": "markdown",
   "id": "4076fef8",
   "metadata": {},
   "source": [
    "### Question 9\n",
    "#### Write a code to create the given structure using only for loop.\n",
    "#### *\n",
    "#### ***\n",
    "#### *****\n",
    "#### *******\n",
    "#### *********"
   ]
  },
  {
   "cell_type": "markdown",
   "id": "e9468f97",
   "metadata": {},
   "source": [
    "### Answer 9"
   ]
  },
  {
   "cell_type": "code",
   "execution_count": 45,
   "id": "763544e4",
   "metadata": {},
   "outputs": [
    {
     "name": "stdout",
     "output_type": "stream",
     "text": [
      "        *  \n",
      "      * * *  \n",
      "    * * * * *  \n",
      "  * * * * * * *  \n",
      "* * * * * * * * *  \n"
     ]
    }
   ],
   "source": [
    "n = 5  \n",
    "for i in range(n):  \n",
    "    for j in range(n-i-1):  \n",
    "        print(' ', end=\" \")    \n",
    "    for k in range(2*i+1):    \n",
    "        print(\"* \", end='')  \n",
    "    print(\" \")   "
   ]
  },
  {
   "cell_type": "markdown",
   "id": "a1b25866",
   "metadata": {},
   "source": [
    "###  Question 10\n",
    "#### Write a code to create the given structure using while loop.\n",
    "#### |||||||||\n",
    "\n",
    "####      |||||||\n",
    "\n",
    "####       |||||\n",
    "\n",
    "####          |||\n",
    "\n",
    "####            |"
   ]
  },
  {
   "cell_type": "markdown",
   "id": "960de3dd",
   "metadata": {},
   "source": [
    "### Answer 10 "
   ]
  },
  {
   "cell_type": "code",
   "execution_count": 47,
   "id": "00e62e85",
   "metadata": {},
   "outputs": [
    {
     "name": "stdout",
     "output_type": "stream",
     "text": [
      "| | | | | | | | |  \n",
      "  | | | | | | |  \n",
      "    | | | | |  \n",
      "      | | |  \n",
      "        |  \n"
     ]
    }
   ],
   "source": [
    "n = 5  \n",
    "for i in range(5,0,-1):  \n",
    "    for j in range(1,6-i):  \n",
    "        print(' ', end=\" \")    \n",
    "    for k in range(1,(2*i-1)+1):    \n",
    "        print(\"| \", end='')  \n",
    "    print(\" \")   "
   ]
  },
  {
   "cell_type": "code",
   "execution_count": null,
   "id": "8618c72c",
   "metadata": {},
   "outputs": [],
   "source": []
  }
 ],
 "metadata": {
  "kernelspec": {
   "display_name": "Python 3 (ipykernel)",
   "language": "python",
   "name": "python3"
  },
  "language_info": {
   "codemirror_mode": {
    "name": "ipython",
    "version": 3
   },
   "file_extension": ".py",
   "mimetype": "text/x-python",
   "name": "python",
   "nbconvert_exporter": "python",
   "pygments_lexer": "ipython3",
   "version": "3.10.9"
  }
 },
 "nbformat": 4,
 "nbformat_minor": 5
}
