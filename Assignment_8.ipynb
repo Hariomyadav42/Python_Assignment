{
 "cells": [
  {
   "cell_type": "markdown",
   "id": "60d15bbd",
   "metadata": {},
   "source": [
    "# iNeuron\n",
    "## Assignment_8"
   ]
  },
  {
   "cell_type": "markdown",
   "id": "9c1527b0",
   "metadata": {},
   "source": [
    "### Question 1\n",
    "#### In Python, what is the difference between a built-in function and a user-defined function? Provide an\n",
    "#### example of each."
   ]
  },
  {
   "cell_type": "markdown",
   "id": "028da0d8",
   "metadata": {},
   "source": [
    "### Answer 1\n",
    "##### Built-in function - \n",
    "These are predefined functions which can be used any time.\n",
    "Eg: - print(), len(), range(), and type()."
   ]
  },
  {
   "cell_type": "code",
   "execution_count": 2,
   "id": "8adf4f41",
   "metadata": {},
   "outputs": [
    {
     "name": "stdout",
     "output_type": "stream",
     "text": [
      "Hello, World\n"
     ]
    }
   ],
   "source": [
    "#printing hello world by using the print() function\n",
    "print(\"Hello, World\")\n"
   ]
  },
  {
   "cell_type": "markdown",
   "id": "a2ffadde",
   "metadata": {},
   "source": [
    "##### User-defined function  -\n",
    " These functions are defined by the programmer.\n"
   ]
  },
  {
   "cell_type": "code",
   "execution_count": 3,
   "id": "fda01583",
   "metadata": {},
   "outputs": [
    {
     "name": "stdout",
     "output_type": "stream",
     "text": [
      "44\n"
     ]
    }
   ],
   "source": [
    "def my_function(a,b):\n",
    "    c = 2*(a + b)\n",
    "    print(c)\n",
    "my_function(10,12)"
   ]
  },
  {
   "cell_type": "markdown",
   "id": "6a0db332",
   "metadata": {},
   "source": [
    "### Question 2\n",
    "#### How can you pass arguments to a function in Python? Explain the difference between positional\n",
    "#### arguments and keyword arguments."
   ]
  },
  {
   "cell_type": "markdown",
   "id": "45cef57e",
   "metadata": {},
   "source": [
    "### Answer 2\n",
    "Arguments are specified after the function name, inside the parentheses. You can add as many arguments as you want, just separate them with a comma.\n",
    "\n",
    "##### Keyword arguments -\n",
    " A keyword argument is preceded by a parameter and the assignment operator, = ."
   ]
  },
  {
   "cell_type": "code",
   "execution_count": 4,
   "id": "6f193462",
   "metadata": {},
   "outputs": [
    {
     "name": "stdout",
     "output_type": "stream",
     "text": [
      "Hi, I am Prince\n",
      "My age is  20\n",
      "Hi, I am Prince\n",
      "My age is  20\n"
     ]
    }
   ],
   "source": [
    "def nameAge(name, age):\n",
    "    print(\"Hi, I am\", name)\n",
    "    print(\"My age is \", age)\n",
    " \n",
    "nameAge(name=\"Prince\", age=20)\n",
    " \n",
    "nameAge(age=20, name=\"Prince\")"
   ]
  },
  {
   "cell_type": "markdown",
   "id": "3a4e9141",
   "metadata": {},
   "source": [
    "##### Positional arguments -\n",
    "A positional argument is a name that is not followed by an equal sign (=) and default value."
   ]
  },
  {
   "cell_type": "code",
   "execution_count": 5,
   "id": "d2c857e8",
   "metadata": {},
   "outputs": [
    {
     "name": "stdout",
     "output_type": "stream",
     "text": [
      "8\n"
     ]
    }
   ],
   "source": [
    "def add(a, b):\n",
    "    return a + b\n",
    "\n",
    "result = add(3, 5)\n",
    "print(result)  # Output: 8\n"
   ]
  },
  {
   "cell_type": "markdown",
   "id": "8f349e62",
   "metadata": {},
   "source": [
    "### Question 3\n",
    "#### What is the purpose of the return statement in a function? Can a function have multiple return\n",
    "#### statements? Explain with an example."
   ]
  },
  {
   "cell_type": "markdown",
   "id": "2ba9649c",
   "metadata": {},
   "source": [
    "### Answer 3\n",
    "The python return statement is used to return the output from a function. We learned that we can also return a function from another function.\n",
    "\n",
    "\n",
    "yes a function have multiple returns statements , the one that satisfies the condition will be executed first and the function will exit."
   ]
  },
  {
   "cell_type": "code",
   "execution_count": 6,
   "id": "6e36f61c",
   "metadata": {},
   "outputs": [
    {
     "name": "stdout",
     "output_type": "stream",
     "text": [
      "B\n"
     ]
    }
   ],
   "source": [
    "def find_grade(score):\n",
    "    if score >= 90:\n",
    "        return \"A\"\n",
    "    elif score >= 80:\n",
    "        return \"B\"\n",
    "    elif score >= 70:\n",
    "        return \"C\"\n",
    "    else:\n",
    "        return \"D\"\n",
    "\n",
    "result = find_grade(85)\n",
    "print(result)  # Output: B\n"
   ]
  },
  {
   "cell_type": "markdown",
   "id": "55b75fd9",
   "metadata": {},
   "source": [
    "### Question 4\n",
    "#### What are lambda functions in Python? How are they different from regular functions? Provide an\n",
    "#### example where a lambda function can be useful."
   ]
  },
  {
   "cell_type": "markdown",
   "id": "4bc9e907",
   "metadata": {},
   "source": [
    "### Answer 4\n",
    "##### lambda function - \n",
    " Lambda Function, also referred to as 'Anonymous function' is same as a regular python function but can be defined without a name.\n",
    " \n",
    " ##### difference b/w regular function and lambda function -\n",
    " The primary difference between a lambda and a regular function is that the lambda function evaluates only a single expression and yields a function object. \n",
    " \n",
    " Example - We use a lambda function to evaluate only one short expression."
   ]
  },
  {
   "cell_type": "code",
   "execution_count": 7,
   "id": "29af7e0e",
   "metadata": {},
   "outputs": [
    {
     "name": "stdout",
     "output_type": "stream",
     "text": [
      "10\n"
     ]
    }
   ],
   "source": [
    "add = lambda x,y: x + y\n",
    "print(add(6,4))"
   ]
  },
  {
   "cell_type": "markdown",
   "id": "caee8426",
   "metadata": {},
   "source": [
    "### Question 5\n",
    "#### How does the concept of \"scope\" apply to functions in Python? Explain the difference between local\n",
    "#### scope and global scope."
   ]
  },
  {
   "cell_type": "markdown",
   "id": "65582088",
   "metadata": {},
   "source": [
    "### Answer 5\n",
    "The scope of variable is a region of the program where a variable is visible or accessible.The scope of a variable is determined by where it is defined in the code.\n",
    "\n",
    "(i) Local scope - A variable created inside a function belongs to the local scope of that function, and can only be used inside that function. "
   ]
  },
  {
   "cell_type": "code",
   "execution_count": 10,
   "id": "d59e1174",
   "metadata": {},
   "outputs": [
    {
     "name": "stdout",
     "output_type": "stream",
     "text": [
      "30\n"
     ]
    }
   ],
   "source": [
    "def myfunction():\n",
    "  x = 30\n",
    "  print(x)\n",
    "\n",
    "myfunction()"
   ]
  },
  {
   "cell_type": "markdown",
   "id": "ade71db9",
   "metadata": {},
   "source": [
    "(ii) Global scope - A variable created in the main body of the Python code is a global variable and belongs to the global scope.\n",
    "\n",
    "Global variables are available from within any scope, global and local."
   ]
  },
  {
   "cell_type": "code",
   "execution_count": 32,
   "id": "9217ef62",
   "metadata": {},
   "outputs": [
    {
     "name": "stdout",
     "output_type": "stream",
     "text": [
      "300\n",
      "300\n"
     ]
    }
   ],
   "source": [
    "x = 300\n",
    "\n",
    "def myfunc():\n",
    "    print(x)\n",
    "  \n",
    "\n",
    "myfunc()\n",
    "\n",
    "print(x)\n"
   ]
  },
  {
   "cell_type": "markdown",
   "id": "9f47df59",
   "metadata": {},
   "source": [
    "### Question 6\n",
    "#### How can you use the \"return\" statement in a Python function to return multiple values?"
   ]
  },
  {
   "cell_type": "markdown",
   "id": "8eab87df",
   "metadata": {},
   "source": [
    "### Answer 6\n",
    "You can use a return statement to return multiple values from a function. To do that, you just need to supply several return values separated by commas.\n",
    "\n",
    " You can return multiple values as a tuple, and the values will be packed into the tuple. Here's an example:"
   ]
  },
  {
   "cell_type": "code",
   "execution_count": 20,
   "id": "19900b93",
   "metadata": {},
   "outputs": [
    {
     "name": "stdout",
     "output_type": "stream",
     "text": [
      "(10, 'Hello', [1, 2, 3])\n",
      "10\n",
      "Hello\n",
      "[1, 2, 3]\n"
     ]
    }
   ],
   "source": [
    "def multiple_values():\n",
    "    value1 = 10\n",
    "    value2 = 'Hello'\n",
    "    value3 = [1, 2, 3]\n",
    "    return value1, value2, value3\n",
    "\n",
    "result = multiple_values()\n",
    "print(result)  # (10, 'Hello', [1, 2, 3])\n",
    "print(result[0])  # 10\n",
    "print(result[1])  # 'Hello'\n",
    "print(result[2])  # [1, 2, 3]\n"
   ]
  },
  {
   "cell_type": "markdown",
   "id": "52428f7d",
   "metadata": {},
   "source": [
    "### Question 7\n",
    "####  What is the difference between the \"pass by value\" and \"pass by reference\" concepts when it\n",
    "#### comes to function arguments in Python?"
   ]
  },
  {
   "cell_type": "markdown",
   "id": "16664205",
   "metadata": {},
   "source": [
    "### Answer 7\n",
    "##### pass-by-reference -\n",
    "When we pass function arguments by reference, those arguments are only references to existing values.\n",
    "\n",
    "##### pass by value -\n",
    "when we pass arguments by value, those arguments become independent copies of the original values."
   ]
  },
  {
   "cell_type": "markdown",
   "id": "38e57938",
   "metadata": {},
   "source": [
    "### Question 8\n",
    "#### Create a function that can intake integer or decimal value and do following operations:\n",
    "\n",
    "#### a. Logarithmic function (log x)\n",
    "#### b. Exponential function (exp(x))\n",
    "#### c. Power function with base 2 (2^x)\n",
    "#### d. Square root"
   ]
  },
  {
   "cell_type": "markdown",
   "id": "df84d31c",
   "metadata": {},
   "source": [
    "### Answer 8"
   ]
  },
  {
   "cell_type": "code",
   "execution_count": 25,
   "id": "6c724540",
   "metadata": {},
   "outputs": [
    {
     "name": "stdout",
     "output_type": "stream",
     "text": [
      "2.302585092994046\n"
     ]
    }
   ],
   "source": [
    "#Logarithmic function (log x)\n",
    "import math\n",
    "\n",
    "result = math.log(10)\n",
    "print(result)  # Output: 2.302585092994046\n"
   ]
  },
  {
   "cell_type": "code",
   "execution_count": 22,
   "id": "e21f47eb",
   "metadata": {},
   "outputs": [
    {
     "name": "stdout",
     "output_type": "stream",
     "text": [
      "7.38905609893065\n"
     ]
    }
   ],
   "source": [
    "#Exponential function (exp(x))\n",
    "import math\n",
    "\n",
    "result = math.exp(2)\n",
    "print(result)  # Output: 7.3890560989306495\n"
   ]
  },
  {
   "cell_type": "code",
   "execution_count": 26,
   "id": "99c1f028",
   "metadata": {},
   "outputs": [
    {
     "name": "stdout",
     "output_type": "stream",
     "text": [
      "8.0\n"
     ]
    }
   ],
   "source": [
    "# Power function with base 2 (2^x)\n",
    "import math\n",
    "\n",
    "result = math.pow(2, 3)\n",
    "print(result)  # Output: 8.0\n"
   ]
  },
  {
   "cell_type": "code",
   "execution_count": 27,
   "id": "61754d32",
   "metadata": {},
   "outputs": [
    {
     "name": "stdout",
     "output_type": "stream",
     "text": [
      "4.0\n"
     ]
    }
   ],
   "source": [
    "#Square root\n",
    "import math\n",
    "\n",
    "result = math.sqrt(16)\n",
    "print(result)  # Output: 4.0\n"
   ]
  },
  {
   "cell_type": "markdown",
   "id": "1546adb1",
   "metadata": {},
   "source": [
    "### Question 9\n",
    "#### Create a function that takes a full name as an argument and returns first name and last name."
   ]
  },
  {
   "cell_type": "markdown",
   "id": "d5061d89",
   "metadata": {},
   "source": [
    "### Answer 9 "
   ]
  },
  {
   "cell_type": "code",
   "execution_count": 28,
   "id": "87f1299c",
   "metadata": {},
   "outputs": [
    {
     "name": "stdout",
     "output_type": "stream",
     "text": [
      "hari\n",
      "om\n"
     ]
    }
   ],
   "source": [
    "def introduction(firstname , lastname):\n",
    "    print(firstname)\n",
    "    print(lastname)\n",
    "introduction(\"hari\", \"om\")"
   ]
  },
  {
   "cell_type": "code",
   "execution_count": null,
   "id": "445cb182",
   "metadata": {},
   "outputs": [],
   "source": []
  }
 ],
 "metadata": {
  "kernelspec": {
   "display_name": "Python 3 (ipykernel)",
   "language": "python",
   "name": "python3"
  },
  "language_info": {
   "codemirror_mode": {
    "name": "ipython",
    "version": 3
   },
   "file_extension": ".py",
   "mimetype": "text/x-python",
   "name": "python",
   "nbconvert_exporter": "python",
   "pygments_lexer": "ipython3",
   "version": "3.10.9"
  }
 },
 "nbformat": 4,
 "nbformat_minor": 5
}
