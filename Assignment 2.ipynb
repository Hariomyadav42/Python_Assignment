{
 "cells": [
  {
   "cell_type": "markdown",
   "id": "2b7320fc",
   "metadata": {},
   "source": [
    "# iNeuron"
   ]
  },
  {
   "cell_type": "markdown",
   "id": "698edb3d",
   "metadata": {},
   "source": [
    "## Assignment 2"
   ]
  },
  {
   "cell_type": "markdown",
   "id": "8d8eb2d2",
   "metadata": {},
   "source": [
    "### Question:1\n",
    "#### What are the two values of the Boolean data type? How do you write them?"
   ]
  },
  {
   "cell_type": "markdown",
   "id": "bca8c83e",
   "metadata": {},
   "source": [
    "### Answer:1\n",
    " The two values of the Boolean data type are true and false. They are written such as True (1) and False (0)."
   ]
  },
  {
   "cell_type": "markdown",
   "id": "85bedd65",
   "metadata": {},
   "source": [
    "### Question 2\n",
    "#### What are the three different types of Boolean operators?"
   ]
  },
  {
   "cell_type": "markdown",
   "id": "8d211d03",
   "metadata": {},
   "source": [
    "### Answer 2\n",
    "There are three types of Boolean operators AND, OR, NOT."
   ]
  },
  {
   "cell_type": "markdown",
   "id": "3c7d1be0",
   "metadata": {},
   "source": [
    "### Question 3\n",
    "#### Make a list of each Boolean operator's truth tables (i.e. every possible combination of Boolean values for the operators and what it evaluate). "
   ]
  },
  {
   "cell_type": "markdown",
   "id": "c104b78b",
   "metadata": {},
   "source": [
    "### Answer 3\n",
    "##### The and Boolean Operator\n",
    "The and operator takes two arguments. It evaluates to False unless both inputs are True.\n",
    "\n",
    "False and False is False\n",
    "\n",
    "False and True is False\n",
    "\n",
    "True and False is False\n",
    "\n",
    "True and True is True\n",
    "\n",
    "##### The or Boolean Operator\n",
    "\n",
    "The value of the or operator is True unless both of its inputs are False. \n",
    "\n",
    "True or True is True\n",
    "\n",
    "False or True is True\n",
    "\n",
    "True or False is True\n",
    "\n",
    "False or False is False\n",
    "\n",
    "##### The not Boolean Operator\n",
    "\n",
    "not True is False\n",
    "\n",
    "not False is True\n",
    "\n",
    "##### The boolean value of the operators : True is 1 and False is 0\n",
    "\n",
    "Truth Table for AND\n",
    "\n",
    "A   B   output\n",
    "\n",
    "0   0   0\n",
    "\n",
    "0   1   0\n",
    "\n",
    "1   0   0\n",
    "\n",
    "1   1   1\n",
    "\n",
    "Truth Table for OR\n",
    "\n",
    "A   B   output\n",
    "\n",
    "0   0   0\n",
    "\n",
    "0   1   1\n",
    "\n",
    "1   0   1\n",
    "\n",
    "1   1   1\n",
    "\n",
    "Truth Table for NOT\n",
    "\n",
    "A   output\n",
    "\n",
    "0   1\n",
    "\n",
    "1   0"
   ]
  },
  {
   "cell_type": "markdown",
   "id": "7fd50150",
   "metadata": {},
   "source": [
    "### Question 4\n",
    "#### What are the value of following expression ?\n",
    "### Answer 4"
   ]
  },
  {
   "cell_type": "code",
   "execution_count": 4,
   "id": "b54967e6",
   "metadata": {},
   "outputs": [
    {
     "name": "stdout",
     "output_type": "stream",
     "text": [
      "False\n",
      "False\n",
      "True\n",
      "True\n",
      "False\n",
      "True\n"
     ]
    }
   ],
   "source": [
    "(5 > 4) and (3 == 5)\n",
    "print((5>4) and (3==5))\n",
    "not (5 > 4)\n",
    "print(not (5 > 4))\n",
    "(5 > 4) or (3 == 5)\n",
    "print((5>4) or (3==5))\n",
    "not ((5 > 4) or (3 == 5))\n",
    "print((5>4) or (3==5))\n",
    "(True and True) and (True == False)\n",
    "print((True and True) and (True==False))\n",
    "(not False) or (not True)\n",
    "print((not(False))or(not(True)))\n"
   ]
  },
  {
   "cell_type": "markdown",
   "id": "ad1b18da",
   "metadata": {},
   "source": [
    "### Question 5\n",
    "####  What are the six comparison operators?"
   ]
  },
  {
   "cell_type": "markdown",
   "id": "f3339030",
   "metadata": {},
   "source": [
    "### Answer 5\n",
    "==, !=, <, >, <=, and >="
   ]
  },
  {
   "cell_type": "markdown",
   "id": "8ed1bbb4",
   "metadata": {},
   "source": [
    "### Question 6\n",
    "#### How do you tell the difference between the equal to and assignment operators?Describe a condition and when you would use one\n",
    "### Answer 6"
   ]
  },
  {
   "cell_type": "code",
   "execution_count": 5,
   "id": "fa2616e0",
   "metadata": {},
   "outputs": [
    {
     "name": "stdout",
     "output_type": "stream",
     "text": [
      "False\n",
      "c = 1\n"
     ]
    }
   ],
   "source": [
    "#eg.\n",
    "\n",
    "# Equal To Operator\n",
    "if(2==3):\n",
    "    print(\"True\")\n",
    "else:\n",
    "    print(\"False\")\n",
    "    \n",
    "#Assignment operator\n",
    "\n",
    "c=1 #here we have used assignment operator(=) to assign value of c which is 1\n",
    "print(\"c =\",c)\n"
   ]
  },
  {
   "cell_type": "markdown",
   "id": "229c7f15",
   "metadata": {},
   "source": [
    "### Question 7\n",
    "#### Identify the three blocks in this code:\n",
    "### Answer 7"
   ]
  },
  {
   "cell_type": "code",
   "execution_count": 6,
   "id": "c8decd62",
   "metadata": {},
   "outputs": [
    {
     "name": "stdout",
     "output_type": "stream",
     "text": [
      "ham\n",
      "spam\n",
      "spam\n"
     ]
    }
   ],
   "source": [
    "spam = 0\n",
    "if spam == 10:\n",
    "    print('eggs') #Block 1\n",
    "if spam > 5:\n",
    "    print('bacon') #Block 2\n",
    "else:\n",
    "    print('ham') #Block 3\n",
    "    print('spam')\n",
    "    print('spam')"
   ]
  },
  {
   "cell_type": "markdown",
   "id": "6c506e7c",
   "metadata": {},
   "source": [
    "### Question 8\n",
    "#### Write code that prints Hello if 1 is stored in spam, prints Howdy if 2 is stored in spam, and prints Greetings! if anything else is stored in spam.\n",
    "### Answer 8"
   ]
  },
  {
   "cell_type": "code",
   "execution_count": 7,
   "id": "271c9423",
   "metadata": {},
   "outputs": [
    {
     "name": "stdout",
     "output_type": "stream",
     "text": [
      "Input a no.20\n",
      "Greetings!\n"
     ]
    }
   ],
   "source": [
    "spam = int(input(\"Input a no.\"))\n",
    "if spam == 20:\n",
    "    print(\"Hello\")\n",
    "elif spam == 10:\n",
    "    print(\"Howdy\")\n",
    "else:\n",
    "    print(\"Greetings!\")"
   ]
  },
  {
   "cell_type": "markdown",
   "id": "90e8df74",
   "metadata": {},
   "source": [
    "### Question 9\n",
    "#### If your programme is stuck in an endless loop, what keys you’ll press?"
   ]
  },
  {
   "cell_type": "markdown",
   "id": "3de2d74d",
   "metadata": {},
   "source": [
    "### Answer 9\n",
    " We will press CTRL + C. "
   ]
  },
  {
   "cell_type": "markdown",
   "id": "2aabd4c1",
   "metadata": {},
   "source": [
    "### Question 10\n",
    "####  How can you tell the difference between break and continue?"
   ]
  },
  {
   "cell_type": "markdown",
   "id": "76686bdb",
   "metadata": {},
   "source": [
    "### Answer 10\n",
    "###### break: \n",
    "            Break exits the loop immediately, and unconditionally ends the loop's operation. The program begins to execute the nearest instruction after the loop's body.\n",
    "\n",
    "###### continue:\n",
    "               Continue behaves as if the program has suddenly reached the end of the body. The next turn is started and the condition expression is tested immediately."
   ]
  },
  {
   "cell_type": "code",
   "execution_count": 9,
   "id": "d36ce5f9",
   "metadata": {},
   "outputs": [
    {
     "name": "stdout",
     "output_type": "stream",
     "text": [
      "0\n",
      "1\n",
      "2\n",
      "3\n",
      "4\n",
      "5\n",
      "6\n",
      "Breaked\n",
      "0\n",
      "1\n",
      "2\n",
      "3\n",
      "4\n",
      "5\n",
      "6\n",
      "8\n",
      "9\n"
     ]
    }
   ],
   "source": [
    "# use of break\n",
    "for i in range(10):\n",
    "    if(i==7):\n",
    "        break\n",
    "    print(i)\n",
    "    \n",
    "print('Breaked')\n",
    "#use of  continue\n",
    "for i in range(10):\n",
    "    if(i==7):\n",
    "        continue\n",
    "    print(i)\n",
    "    "
   ]
  },
  {
   "cell_type": "markdown",
   "id": "e3bfa1d0",
   "metadata": {},
   "source": [
    "###  Question 11\n",
    "#### In a for loop, what is the difference between range(10), range(0, 10), and range(0, 10, 1)?"
   ]
  },
  {
   "cell_type": "markdown",
   "id": "8e6c53bd",
   "metadata": {},
   "source": [
    "### Answer 11"
   ]
  },
  {
   "cell_type": "code",
   "execution_count": 11,
   "id": "e05a8555",
   "metadata": {},
   "outputs": [
    {
     "name": "stdout",
     "output_type": "stream",
     "text": [
      "0\n",
      "1\n",
      "2\n",
      "3\n",
      "4\n",
      "5\n",
      "6\n",
      "7\n",
      "8\n",
      "9\n",
      "xxxxxxxxxxxxxxxxxxxxxxxxxxxxxxxxxxxxxxxxxxxxxxxxxxxxxxxxxxxxxxxxxxxxxxxxxxxxxxxxxxxxxx\n",
      "0\n",
      "1\n",
      "2\n",
      "3\n",
      "4\n",
      "5\n",
      "6\n",
      "7\n",
      "8\n",
      "9\n",
      "xxxxxxxxxxxxxxxxxxxxxxxxxxxxxxxxxxxxxxxxxxxxxxxxxxxxxxxxxxxxxxxxxxxxxxxxxxxxxxxxxxxxxx\n",
      "0\n",
      "1\n",
      "2\n",
      "3\n",
      "4\n",
      "5\n",
      "6\n",
      "7\n",
      "8\n",
      "9\n"
     ]
    }
   ],
   "source": [
    "for i in range(10):\n",
    "    print(i)\n",
    "print(\"xxxxxxxxxxxxxxxxxxxxxxxxxxxxxxxxxxxxxxxxxxxxxxxxxxxxxxxxxxxxxxxxxxxxxxxxxxxxxxxxxxxxxx\") \n",
    "for i in range(0,10):\n",
    "    print(i)\n",
    "print(\"xxxxxxxxxxxxxxxxxxxxxxxxxxxxxxxxxxxxxxxxxxxxxxxxxxxxxxxxxxxxxxxxxxxxxxxxxxxxxxxxxxxxxx\")\n",
    "for i in range(0,10,1):\n",
    "    print(i)"
   ]
  },
  {
   "cell_type": "markdown",
   "id": "4264ac18",
   "metadata": {},
   "source": [
    "### Question 12\n",
    "#### Write a short program that prints the numbers 1 to 10 using a for loop. Then write an equivalent program that prints the numbers 1 to 10 using a while loop.\n",
    "### Answer 12"
   ]
  },
  {
   "cell_type": "code",
   "execution_count": 12,
   "id": "ebf961af",
   "metadata": {},
   "outputs": [
    {
     "name": "stdout",
     "output_type": "stream",
     "text": [
      "For Loop\n",
      "1\n",
      "2\n",
      "3\n",
      "4\n",
      "5\n",
      "6\n",
      "7\n",
      "8\n",
      "9\n",
      "10\n",
      "While Loop\n",
      "1\n",
      "2\n",
      "3\n",
      "4\n",
      "5\n",
      "6\n",
      "7\n",
      "8\n",
      "9\n",
      "10\n"
     ]
    }
   ],
   "source": [
    "#Use of For Loop\n",
    "print(\"For Loop\")\n",
    "for i in range(1,11):\n",
    "    print(i)\n",
    "#Use of While Loop\n",
    "print(\"While Loop\")\n",
    "a =1\n",
    "while a <= 10:\n",
    "    print(a)\n",
    "    a+=1"
   ]
  },
  {
   "cell_type": "markdown",
   "id": "9c09197e",
   "metadata": {},
   "source": [
    "### Question 13\n",
    "#### If you had a function named bacon() inside a module named spam, how would you call it after importing spam?\n",
    "\n",
    "### Answer 13\n",
    "This function can be called with spam.bacon()."
   ]
  },
  {
   "cell_type": "code",
   "execution_count": null,
   "id": "fd7b554c",
   "metadata": {},
   "outputs": [],
   "source": []
  }
 ],
 "metadata": {
  "kernelspec": {
   "display_name": "Python 3 (ipykernel)",
   "language": "python",
   "name": "python3"
  },
  "language_info": {
   "codemirror_mode": {
    "name": "ipython",
    "version": 3
   },
   "file_extension": ".py",
   "mimetype": "text/x-python",
   "name": "python",
   "nbconvert_exporter": "python",
   "pygments_lexer": "ipython3",
   "version": "3.10.9"
  }
 },
 "nbformat": 4,
 "nbformat_minor": 5
}
