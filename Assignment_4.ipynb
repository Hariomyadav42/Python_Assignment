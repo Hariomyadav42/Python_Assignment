{
 "cells": [
  {
   "cell_type": "markdown",
   "id": "6b4b0dce",
   "metadata": {},
   "source": [
    "# iNeuron\n",
    "## Assignment_3"
   ]
  },
  {
   "cell_type": "markdown",
   "id": "46b035be",
   "metadata": {},
   "source": [
    "### Question 1\n",
    "#### What exactly is []?"
   ]
  },
  {
   "cell_type": "markdown",
   "id": "f1467ccd",
   "metadata": {},
   "source": [
    "### Answer 1\n",
    " [] is a list: A mutable collection of values."
   ]
  },
  {
   "cell_type": "markdown",
   "id": "0f35a671",
   "metadata": {},
   "source": [
    "### Question 2\n",
    "#### In a list of values stored in a variable called spam, how would you assign the value &#39;hello&#39; as the\n",
    "#### third value? (Assume [2, 4, 6, 8, 10] are in spam.)"
   ]
  },
  {
   "cell_type": "markdown",
   "id": "2c1a353a",
   "metadata": {},
   "source": [
    "### Answer 2\n",
    "\n",
    "spam[2] = \"hello\""
   ]
  },
  {
   "cell_type": "code",
   "execution_count": 1,
   "id": "62aa0eb8",
   "metadata": {},
   "outputs": [
    {
     "name": "stdout",
     "output_type": "stream",
     "text": [
      "[2, 4, 'hello', 8, 10]\n"
     ]
    }
   ],
   "source": [
    "spam = [2, 4, 6, 8, 10]\n",
    "spam[2] = \"hello\"\n",
    "print(spam)"
   ]
  },
  {
   "cell_type": "markdown",
   "id": "a8897514",
   "metadata": {},
   "source": [
    "####  Let&#39;s pretend the spam includes the list [&#39;a&#39;, &#39;b&#39;, &#39;c&#39;, &#39;d&#39;] for the next three queries."
   ]
  },
  {
   "cell_type": "markdown",
   "id": "fe32d9da",
   "metadata": {},
   "source": [
    "### Question 3\n",
    "#### What is the value of spam[int(int(&#39;3&#39; * 2) / 11)]?"
   ]
  },
  {
   "cell_type": "markdown",
   "id": "cdb131ff",
   "metadata": {},
   "source": [
    "### Answer 3"
   ]
  },
  {
   "cell_type": "code",
   "execution_count": 3,
   "id": "e985faaf",
   "metadata": {},
   "outputs": [
    {
     "data": {
      "text/plain": [
       "'d'"
      ]
     },
     "execution_count": 3,
     "metadata": {},
     "output_type": "execute_result"
    }
   ],
   "source": [
    "spam = ['a', 'b', 'c', 'd']\n",
    "spam[int(int('3' * 2) / 11)]"
   ]
  },
  {
   "cell_type": "markdown",
   "id": "d8b0269c",
   "metadata": {},
   "source": [
    "### Question 4\n",
    "#### What is the value of spam[-1]? "
   ]
  },
  {
   "cell_type": "markdown",
   "id": "8592ecdf",
   "metadata": {},
   "source": [
    "### Answer 4 "
   ]
  },
  {
   "cell_type": "code",
   "execution_count": 4,
   "id": "10644069",
   "metadata": {},
   "outputs": [
    {
     "data": {
      "text/plain": [
       "'d'"
      ]
     },
     "execution_count": 4,
     "metadata": {},
     "output_type": "execute_result"
    }
   ],
   "source": [
    "spam = ['a', 'b', 'c', 'd']\n",
    "spam[-1]"
   ]
  },
  {
   "cell_type": "markdown",
   "id": "96fa861c",
   "metadata": {},
   "source": [
    "### Question 5\n",
    "#### What is the value of spam[:2]?"
   ]
  },
  {
   "cell_type": "markdown",
   "id": "5bd73968",
   "metadata": {},
   "source": [
    "### Answer 5\n",
    "spam[2] = 'c'"
   ]
  },
  {
   "cell_type": "code",
   "execution_count": 5,
   "id": "ea28fcc0",
   "metadata": {},
   "outputs": [
    {
     "data": {
      "text/plain": [
       "'c'"
      ]
     },
     "execution_count": 5,
     "metadata": {},
     "output_type": "execute_result"
    }
   ],
   "source": [
    "spam = ['a', 'b', 'c', 'd']\n",
    "spam[2]"
   ]
  },
  {
   "cell_type": "markdown",
   "id": "bb18b73f",
   "metadata": {},
   "source": [
    "#### Let&#39;s pretend bacon has the list [3.14, &#39;cat,&#39; 11, &#39;cat,&#39; True] for the next three questions. "
   ]
  },
  {
   "cell_type": "markdown",
   "id": "9f2d92ef",
   "metadata": {},
   "source": [
    "### Question 6 \n",
    "#### What is the value of bacon.index(&#39;cat&#39;)?"
   ]
  },
  {
   "cell_type": "markdown",
   "id": "8dec6438",
   "metadata": {},
   "source": [
    "### Answer 6\n"
   ]
  },
  {
   "cell_type": "code",
   "execution_count": 8,
   "id": "94fcd752",
   "metadata": {},
   "outputs": [
    {
     "data": {
      "text/plain": [
       "1"
      ]
     },
     "execution_count": 8,
     "metadata": {},
     "output_type": "execute_result"
    }
   ],
   "source": [
    "bacon = [3.14, 'cat', 11, 'cat', True]\n",
    "bacon.index('cat')\n"
   ]
  },
  {
   "cell_type": "markdown",
   "id": "adbb2319",
   "metadata": {},
   "source": [
    "### Question 7\n",
    "#### How does bacon.append(99) change the look of the list value in bacon?"
   ]
  },
  {
   "cell_type": "markdown",
   "id": "daa63575",
   "metadata": {},
   "source": [
    "### Answer 7 "
   ]
  },
  {
   "cell_type": "code",
   "execution_count": 11,
   "id": "0f5769e9",
   "metadata": {},
   "outputs": [
    {
     "name": "stdout",
     "output_type": "stream",
     "text": [
      "[3.14, 'cat', 11, 'cat', True, 99]\n"
     ]
    }
   ],
   "source": [
    "bacon = [3.14, 'cat', 11, 'cat', True]\n",
    "bacon.append(99)\n",
    "print(bacon)"
   ]
  },
  {
   "cell_type": "markdown",
   "id": "dff60829",
   "metadata": {},
   "source": [
    "### Question 8\n",
    "#### How does bacon.remove(&#39;cat&#39;) change the look of the list in bacon? "
   ]
  },
  {
   "cell_type": "markdown",
   "id": "14b58791",
   "metadata": {},
   "source": [
    "### Answer 8"
   ]
  },
  {
   "cell_type": "code",
   "execution_count": 12,
   "id": "2333b755",
   "metadata": {},
   "outputs": [
    {
     "name": "stdout",
     "output_type": "stream",
     "text": [
      "[3.14, 11, 'cat', True]\n"
     ]
    }
   ],
   "source": [
    "bacon = [3.14, 'cat', 11, 'cat', True]\n",
    "bacon.remove('cat')\n",
    "print(bacon)"
   ]
  },
  {
   "cell_type": "markdown",
   "id": "8d4cbe84",
   "metadata": {},
   "source": [
    "### Question 9\n",
    "#### What are the list concatenation and list replication operators?"
   ]
  },
  {
   "cell_type": "markdown",
   "id": "2ab87e2c",
   "metadata": {},
   "source": [
    "### Answer 9\n",
    "The operator for list concatenation is +, while the operator for replication is *."
   ]
  },
  {
   "cell_type": "markdown",
   "id": "9e4ef1cc",
   "metadata": {},
   "source": [
    "### Question 10\n",
    "#### What is difference between the list methods append() and insert()?"
   ]
  },
  {
   "cell_type": "markdown",
   "id": "f87c8f72",
   "metadata": {},
   "source": [
    "### Answer 10\n",
    "The difference between the two methods is that  append() adds an item to the end of a list, whereas  insert() inserts and item in a specified position in the list."
   ]
  },
  {
   "cell_type": "markdown",
   "id": "4f8d6059",
   "metadata": {},
   "source": [
    "### Question 11\n",
    "#### What are the two methods for removing items from a list?"
   ]
  },
  {
   "cell_type": "markdown",
   "id": "f760ebb9",
   "metadata": {},
   "source": [
    "### Answer 11\n",
    "The two methods are for removing items from a list is remove() and pop()."
   ]
  },
  {
   "cell_type": "markdown",
   "id": "ae18b989",
   "metadata": {},
   "source": [
    "### Question 12\n",
    "#### Describe how list values and string values are identical."
   ]
  },
  {
   "cell_type": "markdown",
   "id": "a41953ea",
   "metadata": {},
   "source": [
    "### Answer 12\n",
    " The similarity b/w Lists and Strings in Python is that both are sequences ."
   ]
  },
  {
   "cell_type": "markdown",
   "id": "9d36a965",
   "metadata": {},
   "source": [
    "### Question 13\n",
    "\n",
    "#### What&#39;s the difference between tuples and lists?"
   ]
  },
  {
   "cell_type": "markdown",
   "id": "c704224c",
   "metadata": {},
   "source": [
    "### Answer 13\n",
    "The main difference between tuples and lists is that tuples are immutable as opposed to lists which are mutable."
   ]
  },
  {
   "cell_type": "markdown",
   "id": "de3bfd90",
   "metadata": {},
   "source": [
    "### Question 14\n",
    "#### How do you type a tuple value that only contains the integer 42?"
   ]
  },
  {
   "cell_type": "markdown",
   "id": "7d9beef7",
   "metadata": {},
   "source": [
    "### Answer 14\n",
    "(42)"
   ]
  },
  {
   "cell_type": "markdown",
   "id": "17139009",
   "metadata": {},
   "source": [
    "### Question 15\n",
    "#### How do you get a list value&#39;s tuple form? How do you get a tuple value&#39;s list form?"
   ]
  },
  {
   "cell_type": "markdown",
   "id": "6a565faf",
   "metadata": {},
   "source": [
    "### Answer 15\n",
    "The tuple() and list() functions, respectively."
   ]
  },
  {
   "cell_type": "markdown",
   "id": "c9e9e0de",
   "metadata": {},
   "source": [
    "### Quiestion 16\n",
    "#### Variables that \"contain\" list values are not necessarily lists themselves. Instead, what do they contain?"
   ]
  },
  {
   "cell_type": "markdown",
   "id": "e6e2714d",
   "metadata": {},
   "source": [
    "### Answer 16\n",
    "They contain references to list values."
   ]
  },
  {
   "cell_type": "markdown",
   "id": "8e7ca03d",
   "metadata": {},
   "source": [
    "### Question 17\n",
    "#### How do you distinguish between copy.copy() and copy.deepcopy()?"
   ]
  },
  {
   "cell_type": "markdown",
   "id": "507efe11",
   "metadata": {},
   "source": [
    "### Answer 17\n",
    "The copy() returns a shallow copy of the list, and deepcopy() returns a deep copy of the list."
   ]
  },
  {
   "cell_type": "code",
   "execution_count": null,
   "id": "d5f23c92",
   "metadata": {},
   "outputs": [],
   "source": []
  }
 ],
 "metadata": {
  "kernelspec": {
   "display_name": "Python 3 (ipykernel)",
   "language": "python",
   "name": "python3"
  },
  "language_info": {
   "codemirror_mode": {
    "name": "ipython",
    "version": 3
   },
   "file_extension": ".py",
   "mimetype": "text/x-python",
   "name": "python",
   "nbconvert_exporter": "python",
   "pygments_lexer": "ipython3",
   "version": "3.10.9"
  }
 },
 "nbformat": 4,
 "nbformat_minor": 5
}
