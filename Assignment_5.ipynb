{
 "cells": [
  {
   "cell_type": "markdown",
   "id": "68f294fb",
   "metadata": {},
   "source": [
    "# iNeuron\n",
    "## Assignment_5"
   ]
  },
  {
   "cell_type": "markdown",
   "id": "1c8049e1",
   "metadata": {},
   "source": [
    "### Question 1\n",
    "#### What does an empty dictionary&#39;s code look like?"
   ]
  },
  {
   "cell_type": "markdown",
   "id": "abe8bfaf",
   "metadata": {},
   "source": [
    "### Answer 1\n",
    "An empty pair of curly braces {} is an empty dictionary."
   ]
  },
  {
   "cell_type": "code",
   "execution_count": 1,
   "id": "62e3b2ca",
   "metadata": {},
   "outputs": [
    {
     "name": "stdout",
     "output_type": "stream",
     "text": [
      "{}\n"
     ]
    }
   ],
   "source": [
    "my_dict = {}\n",
    "print(my_dict)"
   ]
  },
  {
   "cell_type": "markdown",
   "id": "37f51e50",
   "metadata": {},
   "source": [
    "### Question 2\n",
    "#### What is the value of a dictionary value with the key &#39;foo&#39; and the value 42?"
   ]
  },
  {
   "cell_type": "markdown",
   "id": "a27f3736",
   "metadata": {},
   "source": [
    "### Answer 2\n",
    "The value of dictionary with key 'foo' and 42 will be {'foo' : 42}"
   ]
  },
  {
   "cell_type": "code",
   "execution_count": 2,
   "id": "305c58e6",
   "metadata": {},
   "outputs": [
    {
     "name": "stdout",
     "output_type": "stream",
     "text": [
      "{'foo': 42}\n"
     ]
    }
   ],
   "source": [
    "dict = {'foo' : 42}\n",
    "print(dict)"
   ]
  },
  {
   "cell_type": "markdown",
   "id": "0e1fb7a9",
   "metadata": {},
   "source": [
    "### Question 3\n",
    "#### What is the most significant distinction between a dictionary and a list?"
   ]
  },
  {
   "cell_type": "markdown",
   "id": "02f9f582",
   "metadata": {},
   "source": [
    "### Answer 3\n",
    "The most significant distinction b/w a dictionary and list is  List is ordered and mutable, whereas dictionaries are unordered and mutable."
   ]
  },
  {
   "cell_type": "markdown",
   "id": "f7f725c8",
   "metadata": {},
   "source": [
    "### Question 4\n",
    "#### What happens if you try to access spam[&#39;foo&#39;] if spam is {&#39;bar&#39;: 100}?"
   ]
  },
  {
   "cell_type": "markdown",
   "id": "76d4c40a",
   "metadata": {},
   "source": [
    "### Answer 4\n",
    "If we try to access we get a KeyError error."
   ]
  },
  {
   "cell_type": "code",
   "execution_count": 6,
   "id": "e09d2337",
   "metadata": {},
   "outputs": [
    {
     "ename": "KeyError",
     "evalue": "'foo'",
     "output_type": "error",
     "traceback": [
      "\u001b[1;31m---------------------------------------------------------------------------\u001b[0m",
      "\u001b[1;31mKeyError\u001b[0m                                  Traceback (most recent call last)",
      "Cell \u001b[1;32mIn[6], line 1\u001b[0m\n\u001b[1;32m----> 1\u001b[0m \u001b[43mspam\u001b[49m\u001b[43m[\u001b[49m\u001b[38;5;124;43m'\u001b[39;49m\u001b[38;5;124;43mfoo\u001b[39;49m\u001b[38;5;124;43m'\u001b[39;49m\u001b[43m]\u001b[49m\n\u001b[0;32m      2\u001b[0m spam \u001b[38;5;241m=\u001b[39m {\u001b[38;5;124m'\u001b[39m\u001b[38;5;124mbar\u001b[39m\u001b[38;5;124m'\u001b[39m: \u001b[38;5;241m100\u001b[39m}\n\u001b[0;32m      3\u001b[0m \u001b[38;5;28mprint\u001b[39m(spam)\n",
      "\u001b[1;31mKeyError\u001b[0m: 'foo'"
     ]
    }
   ],
   "source": [
    "spam['foo']\n",
    "spam = {'bar': 100}\n",
    "print(spam)"
   ]
  },
  {
   "cell_type": "markdown",
   "id": "7fa824d7",
   "metadata": {},
   "source": [
    "### Question 5\n",
    "#### If a dictionary is stored in spam, what is the difference between the expressions &#39;cat&#39; in spam and\n",
    "#### &#39;cat&#39; in spam.keys()?"
   ]
  },
  {
   "cell_type": "markdown",
   "id": "744b5280",
   "metadata": {},
   "source": [
    "### Answer 5\n",
    "There is no difference. The in operator checks whether a value exists as a key in the dictionary."
   ]
  },
  {
   "cell_type": "markdown",
   "id": "962c2518",
   "metadata": {},
   "source": [
    "### Question 6\n",
    "#### If a dictionary is stored in spam, what is the difference between the expressions &#39;cat&#39; in spam and\n",
    "#### &#39;cat&#39; in spam.values()?"
   ]
  },
  {
   "cell_type": "markdown",
   "id": "c1dc5b0b",
   "metadata": {},
   "source": [
    "### Answer 6\n",
    "'cat' in spam checks whether there is a 'cat' key in the dictionary, while 'cat' in spam.values() checks whether there is a value 'cat' for one of the keys in spam."
   ]
  },
  {
   "cell_type": "markdown",
   "id": "29e2694b",
   "metadata": {},
   "source": [
    "### Question 7\n",
    "### What is a shortcut for the following code?\n",
    "#### if &#39;color&#39; not in spam:\n",
    "#### spam[&#39;color&#39;] = &#39;black&#39;"
   ]
  },
  {
   "cell_type": "markdown",
   "id": "20ae36a7",
   "metadata": {},
   "source": [
    "### Answer 7\n",
    "spam.setdefault('color', 'black')"
   ]
  },
  {
   "cell_type": "markdown",
   "id": "73b14793",
   "metadata": {},
   "source": [
    "### Question 8\n",
    "#### How do you &quot;pretty print&quot; dictionary values using which module and function?"
   ]
  },
  {
   "cell_type": "markdown",
   "id": "3879d57f",
   "metadata": {},
   "source": [
    "### Answer 8\n",
    "Using pprint.pprint()"
   ]
  },
  {
   "cell_type": "code",
   "execution_count": null,
   "id": "402b7de1",
   "metadata": {},
   "outputs": [],
   "source": []
  }
 ],
 "metadata": {
  "kernelspec": {
   "display_name": "Python 3 (ipykernel)",
   "language": "python",
   "name": "python3"
  },
  "language_info": {
   "codemirror_mode": {
    "name": "ipython",
    "version": 3
   },
   "file_extension": ".py",
   "mimetype": "text/x-python",
   "name": "python",
   "nbconvert_exporter": "python",
   "pygments_lexer": "ipython3",
   "version": "3.10.9"
  }
 },
 "nbformat": 4,
 "nbformat_minor": 5
}
